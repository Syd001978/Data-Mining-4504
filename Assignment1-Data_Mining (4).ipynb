{
 "cells": [
  {
   "cell_type": "code",
   "execution_count": 7,
   "id": "290fe663-aebd-4882-911e-887dacebf354",
   "metadata": {},
   "outputs": [
    {
     "name": "stdout",
     "output_type": "stream",
     "text": [
      "   USIA  PARITAS  JARAK KELAHIRAN  RIW HIPERTENSI  OBESITAS  RIW DM  \\\n",
      "0  23.0        3              1.0               0         0       1   \n",
      "1  29.0        2              1.0               0         0       0   \n",
      "2  20.0        1              0.0               0         0       0   \n",
      "3  18.0        1              0.0               0         0       0   \n",
      "4  34.0        3              2.0               0         0       0   \n",
      "\n",
      "   RIW HIPERTENSI/PE DALAM KELUARGA  RIW_PE  PE  \n",
      "0                                 0       0   0  \n",
      "1                                 1       1   1  \n",
      "2                                 0       0   0  \n",
      "3                                 0       0   0  \n",
      "4                                 0       0   0  \n"
     ]
    }
   ],
   "source": [
    "#A11.2022.14247\n",
    "\n",
    "import pandas as pd\n",
    "import numpy as np\n",
    "\n",
    "# Baca data excel\n",
    "df = pd.read_excel(\"dataKasus-1.xlsx\")\n",
    "\n",
    "# Menghapus kolom yang tidak relevan\n",
    "df = df.drop(['NO', 'NAMA', 'SOSEK RENDAH'], axis=1)\n",
    "\n",
    "# Membersihkan kolom USIA dari value yang bukan numerik\n",
    "df['USIA'] = df['USIA'].str.replace(r'[a-zA-Z\\s]', '', regex=True)\n",
    "df['USIA'] = pd.to_numeric(df['USIA'], errors='coerce')\n",
    "df['USIA'].fillna(df['USIA'].median(), inplace=True)\n",
    "\n",
    "# Mengubah kolom JARAK KELAHIRAN ke numerik\n",
    "jarak_kelahiran_mapping = {'< 2 tahun': 1, '> 2 tahun ': 2, 'anak pertama': 0, '': 0, np.nan: 0}  \n",
    "df['JARAK KELAHIRAN'] = df['JARAK KELAHIRAN'].map(jarak_kelahiran_mapping)\n",
    "df['JARAK KELAHIRAN'] = df['JARAK KELAHIRAN'].fillna(0)\n",
    "\n",
    "# Encoding fitur kategorikal (diubah ke biner)\n",
    "binary_mapping = {'Tidak': 0, 'Ya': 1}\n",
    "kolom_binary = ['RIW HIPERTENSI', 'OBESITAS', 'RIW DM']\n",
    "for kolom in kolom_binary:\n",
    "    df[kolom] = df[kolom].map(binary_mapping)\n",
    "\n",
    "# Encoding RIW HIPERTENSI/PE DALAM KELUARGA (diubah ke biner)\n",
    "hipertensi_mapping = {'Tidak': 0, 'Ada': 1}\n",
    "df['RIW HIPERTENSI/PE DALAM KELUARGA'] = df['RIW HIPERTENSI/PE DALAM KELUARGA'].map(hipertensi_mapping)\n",
    "\n",
    "# Encoding RIW PE dan PE/Non PE (diubah ke biner)\n",
    "df['RIW_PE'] = df['RIW PE'].apply(lambda x: 1 if x != 'Tidak' else 0)\n",
    "df['PE'] = df['PE/Non PE'].apply(lambda x: 1 if x.startswith('PE') else 0)\n",
    "df = df.drop(['RIW PE', 'PE/Non PE'], axis=1)\n",
    "\n",
    "# Hapus 'Unnamed' kolom\n",
    "# kolom ini muncul karena ada satu kolom yang tidak memiliki nama fitur\n",
    "# namun memiliki beberapa value didalamnya\n",
    "df = df.loc[:, ~df.columns.str.startswith('Unnamed')]\n",
    "\n",
    "# Menyimpan data yang sudah di-preparation ke Excel\n",
    "df.to_excel('data_jadi15.xlsx', index=False)\n",
    "\n",
    "print(df.head(5))\n"
   ]
  },
  {
   "cell_type": "code",
   "execution_count": null,
   "id": "4ff6090e-2be7-4875-a299-3f1d983369e0",
   "metadata": {},
   "outputs": [],
   "source": []
  }
 ],
 "metadata": {
  "kernelspec": {
   "display_name": "Python 3 (ipykernel)",
   "language": "python",
   "name": "python3"
  },
  "language_info": {
   "codemirror_mode": {
    "name": "ipython",
    "version": 3
   },
   "file_extension": ".py",
   "mimetype": "text/x-python",
   "name": "python",
   "nbconvert_exporter": "python",
   "pygments_lexer": "ipython3",
   "version": "3.11.7"
  }
 },
 "nbformat": 4,
 "nbformat_minor": 5
}
